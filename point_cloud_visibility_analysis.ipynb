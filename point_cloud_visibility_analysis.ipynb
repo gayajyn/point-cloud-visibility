{
 "cells": [
  {
   "cell_type": "markdown",
   "id": "efe664d0-4a80-4d64-80f3-74c6e2d64849",
   "metadata": {},
   "source": [
    "# Point Cloud Visibility Analysis"
   ]
  },
  {
   "cell_type": "markdown",
   "id": "912aaf08-846a-4186-acb3-c06d9bd8e20a",
   "metadata": {},
   "source": [
    "## Setup"
   ]
  },
  {
   "cell_type": "code",
   "execution_count": 1,
   "id": "49f0bfa6-1095-47a6-92ef-ed533fd6aaeb",
   "metadata": {
    "scrolled": true
   },
   "outputs": [
    {
     "name": "stdout",
     "output_type": "stream",
     "text": [
      "Jupyter environment detected. Enabling Open3D WebVisualizer.\n",
      "[Open3D INFO] WebRTC GUI backend enabled.\n",
      "[Open3D INFO] WebRTCWindowSystem: HTTP handshake server disabled.\n"
     ]
    }
   ],
   "source": [
    "import glob\n",
    "import laspy\n",
    "import numpy\n",
    "import open3d\n",
    "from scipy.spatial import KDTree\n",
    "import tqdm"
   ]
  },
  {
   "cell_type": "code",
   "execution_count": 2,
   "id": "f0442969-be07-4821-aa75-6ed6eff307b4",
   "metadata": {},
   "outputs": [],
   "source": [
    "# Configuration\n",
    "las_folder = glob.glob(\"LAS/*.las\")\n",
    "downsample_size = 0   # Set to 0 for no downsampling\n",
    "observer_xyz = [120, 0, 5]\n",
    "sampling_divisions = 100\n",
    "search_radius = 0.2\n",
    "save_original_ply = True\n",
    "save_result_ply = True"
   ]
  },
  {
   "cell_type": "code",
   "execution_count": 3,
   "id": "bdb9088c-3f9c-4b3b-8f3b-70d5b8dbbdd1",
   "metadata": {},
   "outputs": [
    {
     "name": "stdout",
     "output_type": "stream",
     "text": [
      "13448516 points merged.\n"
     ]
    }
   ],
   "source": [
    "# Merge LAS files into one point cloud\n",
    "points = []\n",
    "for f in las_folder:\n",
    "    las = laspy.read(f)\n",
    "    x = las.X * las.header.scales[0] + las.header.offsets[0]\n",
    "    y = las.Y * las.header.scales[1] + las.header.offsets[1]\n",
    "    z = las.Z * las.header.scales[2] + las.header.offsets[2]\n",
    "    points.append(numpy.vstack([x, y, z]).T)\n",
    "points = numpy.vstack(points)\n",
    "print(f\"{len(points)} points merged.\")\n",
    "pointcloud = open3d.geometry.PointCloud()\n",
    "pointcloud.points = open3d.utility.Vector3dVector(numpy.vstack(points))"
   ]
  },
  {
   "cell_type": "code",
   "execution_count": 4,
   "id": "f9048f92-253b-4746-9956-f854f65b349d",
   "metadata": {},
   "outputs": [],
   "source": [
    "# Optional polygon file and downsampling\n",
    "if save_original_ply:\n",
    "    open3d.io.write_point_cloud(\"pointcloud.ply\", pointcloud)\n",
    "if downsample_size > 0:\n",
    "    pointcloud = pointcloud.voxel_down_sample(downsample_size)\n",
    "    print(f\"Downsampled to {len(pointcloud.points)} points.\")\n",
    "points = numpy.asarray(pointcloud.points)"
   ]
  },
  {
   "cell_type": "markdown",
   "id": "437abc73-864a-4419-9699-19b7377aef18",
   "metadata": {},
   "source": [
    "## Visibility analysis"
   ]
  },
  {
   "cell_type": "code",
   "execution_count": 5,
   "id": "f6498c05-ff0b-43e1-8eec-91b286466f56",
   "metadata": {},
   "outputs": [
    {
     "name": "stderr",
     "output_type": "stream",
     "text": [
      "100%|██████████████████████████████████████████████████████████████████| 13448516/13448516 [2:23:11<00:00, 1565.42it/s]\n"
     ]
    }
   ],
   "source": [
    "# Set observer point and search tree\n",
    "box_center = pointcloud.get_axis_aligned_bounding_box().get_center()\n",
    "observer = numpy.array([box_center[0] + observer_xyz[0], box_center[1] + observer_xyz[1], box_center[2] + observer_xyz[2]])\n",
    "kdtree = open3d.geometry.KDTreeFlann(pointcloud)\n",
    "visible_points = []\n",
    "for p in tqdm.tqdm(points):  # tqdm is a progress bar\n",
    "    # Calculate and divide vector from observer to point\n",
    "    distance = numpy.linalg.norm(p - observer)\n",
    "    vector = (p - observer) / distance\n",
    "    divisions = numpy.linspace(0, distance, sampling_divisions)[1:-1]  # Ray is divided\n",
    "    blocked = False\n",
    "    # Check along each division for obstructing points\n",
    "    for d in (divisions[:, None] * vector + observer):\n",
    "        srv, _, _ = kdtree.search_radius_vector_3d(d, 0.4)\n",
    "        if srv > 0:\n",
    "            blocked = True\n",
    "            break\n",
    "    # Not obstructed = visible\n",
    "    visible_points.append(not blocked)\n",
    "visible_points = numpy.array(visible_points)"
   ]
  },
  {
   "cell_type": "code",
   "execution_count": 6,
   "id": "72df8431-66b1-4e70-909b-953a2227f2e0",
   "metadata": {},
   "outputs": [
    {
     "name": "stdout",
     "output_type": "stream",
     "text": [
      "5.12% visible from observer point.\n"
     ]
    }
   ],
   "source": [
    "print(f\"{numpy.sum(visible_points) / len(points) * 100:.2f}% visible from observer point.\")"
   ]
  },
  {
   "cell_type": "markdown",
   "id": "6fd3a2dd-fb49-4d24-807f-a21b36ca0d4a",
   "metadata": {},
   "source": [
    "## Display result"
   ]
  },
  {
   "cell_type": "code",
   "execution_count": 7,
   "id": "2a133719-91d4-4c6d-bba6-5040f270c20c",
   "metadata": {},
   "outputs": [],
   "source": [
    "# Color point cloud\n",
    "colors = numpy.zeros_like(points)\n",
    "colors[visible_points] = [0, 1, 0]  # green\n",
    "colors[~visible_points] = [1, 0, 0]  # red\n",
    "pointcloud.colors = open3d.utility.Vector3dVector(colors)"
   ]
  },
  {
   "cell_type": "code",
   "execution_count": 8,
   "id": "d6ae6ae1-15c6-4d1e-acef-c98aa2af6642",
   "metadata": {},
   "outputs": [],
   "source": [
    "# Draw observer point\n",
    "obs_point = open3d.geometry.TriangleMesh.create_sphere(3)\n",
    "obs_point.paint_uniform_color([0, 0, 1])  # blue\n",
    "obs_point.translate(observer);"
   ]
  },
  {
   "cell_type": "code",
   "execution_count": 9,
   "id": "e1603a81-6a46-4df5-9191-aa13de983fca",
   "metadata": {},
   "outputs": [],
   "source": [
    "open3d.visualization.draw_geometries([pointcloud, obs_point])"
   ]
  },
  {
   "cell_type": "markdown",
   "id": "9c1a4950-5c69-4415-80c0-d36108806ec8",
   "metadata": {},
   "source": [
    "## Save result"
   ]
  },
  {
   "cell_type": "code",
   "execution_count": 10,
   "id": "63847f55-e666-4f5f-9009-8556f3ec78f2",
   "metadata": {},
   "outputs": [],
   "source": [
    "# Optional polygon file\n",
    "if save_result_ply:\n",
    "    open3d.io.write_point_cloud(\"visibility.ply\", pointcloud)"
   ]
  },
  {
   "cell_type": "code",
   "execution_count": 11,
   "id": "97bcb2f8-9b97-4f2c-b800-42c224012502",
   "metadata": {},
   "outputs": [],
   "source": [
    "# Write to LAS\n",
    "header = laspy.LasHeader()\n",
    "header.scales = numpy.array([0.001, 0.001, 0.001])\n",
    "header.offsets = numpy.min(points, axis=0)\n",
    "las = laspy.LasData(header)\n",
    "las.x, las.y, las.z = points[:, 0], points[:, 1], points[:, 2]\n",
    "scaled_colors = (colors * 65535).astype(numpy.uint16)\n",
    "las.red, las.green, las.blue = scaled_colors[:, 0], scaled_colors[:, 1], scaled_colors[:, 2]\n",
    "las.write(\"visibility.las\")"
   ]
  }
 ],
 "metadata": {
  "kernelspec": {
   "display_name": "Python 3 (ipykernel)",
   "language": "python",
   "name": "python3"
  },
  "language_info": {
   "codemirror_mode": {
    "name": "ipython",
    "version": 3
   },
   "file_extension": ".py",
   "mimetype": "text/x-python",
   "name": "python",
   "nbconvert_exporter": "python",
   "pygments_lexer": "ipython3",
   "version": "3.12.7"
  }
 },
 "nbformat": 4,
 "nbformat_minor": 5
}
